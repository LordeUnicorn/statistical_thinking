{
 "cells": [
  {
   "cell_type": "code",
   "execution_count": 5,
   "metadata": {},
   "outputs": [],
   "source": [
    "from astropy.table import Table, Column\n",
    "import numpy as np"
   ]
  },
  {
   "cell_type": "code",
   "execution_count": 6,
   "metadata": {},
   "outputs": [],
   "source": [
    " t = Table()\n",
    ">>> t['a'] = [1, 4]\n",
    ">>> t['b'] = Column([2.0, 5.0], unit='cm', description='Velocity')\n",
    ">>> t['c'] = ['x', 'y']\n",
    "\n",
    ">>> t = Table(names=('a', 'b', 'c'), dtype=('f4', 'i4', 'S2'))\n",
    ">>> t.add_row((1, 2.0, 'x'))\n",
    ">>> t.add_row((4, 5.0, 'y'))\n",
    "\n",
    ">>> t = Table(dtype=[('a', 'f4'), ('b', 'i4'), ('c', 'S2')])"
   ]
  },
  {
   "cell_type": "code",
   "execution_count": 7,
   "metadata": {},
   "outputs": [
    {
     "data": {
      "text/html": [
       "&lt;Table length=0&gt;\n",
       "<table id=\"table139880192650376\" class=\"table-striped table-bordered table-condensed\">\n",
       "<thead><tr><th>a</th><th>b</th><th>c</th></tr></thead>\n",
       "<thead><tr><th>float32</th><th>int32</th><th>bytes2</th></tr></thead>\n",
       "</table>"
      ],
      "text/plain": [
       "<Table length=0>\n",
       "   a      b     c   \n",
       "float32 int32 bytes2\n",
       "------- ----- ------"
      ]
     },
     "execution_count": 7,
     "metadata": {},
     "output_type": "execute_result"
    }
   ],
   "source": [
    "t"
   ]
  },
  {
   "cell_type": "code",
   "execution_count": 35,
   "metadata": {},
   "outputs": [
    {
     "name": "stdout",
     "output_type": "stream",
     "text": [
      "Gender      Count\n",
      "--------  -------\n",
      "males         386\n",
      "females       128\n"
     ]
    }
   ],
   "source": [
    "gender = {'males':386,'females':128}\n"
   ]
  }
 ],
 "metadata": {
  "kernelspec": {
   "display_name": "Python 3",
   "language": "python",
   "name": "python3"
  },
  "language_info": {
   "codemirror_mode": {
    "name": "ipython",
    "version": 3
   },
   "file_extension": ".py",
   "mimetype": "text/x-python",
   "name": "python",
   "nbconvert_exporter": "python",
   "pygments_lexer": "ipython3",
   "version": "3.7.3"
  }
 },
 "nbformat": 4,
 "nbformat_minor": 2
}
